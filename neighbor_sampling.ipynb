{
 "cells": [
  {
   "cell_type": "code",
   "execution_count": 1,
   "id": "f093c6da",
   "metadata": {},
   "outputs": [],
   "source": [
    "import torch as t\n",
    "import torch\n",
    "import torch_geometric as pyg\n",
    "from torch_geometric.data import Data, HeteroData\n",
    "from torch_geometric.loader import NeighborLoader\n",
    "\n",
    "import networkx as nx\n",
    "import matplotlib.pyplot as plt "
   ]
  },
  {
   "cell_type": "markdown",
   "id": "bf1b8b98",
   "metadata": {},
   "source": [
    "## Graph setup"
   ]
  },
  {
   "cell_type": "code",
   "execution_count": 2,
   "id": "afc5850e",
   "metadata": {},
   "outputs": [],
   "source": [
    "hd = pyg.data.HeteroData()\n",
    "\n",
    "hd['Cells'].x = torch.arange(4)*10\n",
    "hd['Cells'].y = torch.arange(4)*10\n",
    "\n",
    "hd['Paths'].x = torch.arange(3)*100\n",
    "hd['Genes'].x = torch.arange(4)*1000\n",
    "\n",
    "hd['Paths'].y = torch.arange(3)*100\n",
    "hd['Genes'].y = torch.arange(4)*1000\n",
    "\n",
    "hd['Cells', 'express', 'Paths'].edge_index = torch.LongTensor([\n",
    "    [0, 1, 1, 2, 2, 3],\n",
    "    [0, 0, 1, 1, 2, 2]\n",
    "])\n",
    "\n",
    "hd['Paths', 'contain', 'Genes'].edge_index = torch.LongTensor([\n",
    "    [0, 0, 1, 1, 2],  # [3, 2, 2, 1, 0 ]\n",
    "    [3, 2, 2, 1, 0]    # [0, 0, 1, 1, 2 ]\n",
    "])\n"
   ]
  },
  {
   "cell_type": "markdown",
   "id": "523c42f5",
   "metadata": {},
   "source": [
    "## Batching nodes"
   ]
  },
  {
   "cell_type": "code",
   "execution_count": 3,
   "id": "76fa7a8e",
   "metadata": {},
   "outputs": [],
   "source": [
    "hd = pyg.transforms.ToUndirected()(hd)\n",
    "input_nodes=('Cells', torch.Tensor([1,2])) # ie only batch['Cells'].x = [10,20] should be returned\n",
    "\n",
    "batch_size = 3\n",
    "loader = NeighborLoader(\n",
    "    hd,\n",
    "    num_neighbors=[2,2],\n",
    "    batch_size=batch_size,\n",
    "    input_nodes=input_nodes,\n",
    "    directed=True,\n",
    "    #replace=False\n",
    ")\n",
    "batch = next(iter(loader))"
   ]
  },
  {
   "cell_type": "code",
   "execution_count": 4,
   "id": "a35dadda",
   "metadata": {},
   "outputs": [
    {
     "data": {
      "text/plain": [
       "1"
      ]
     },
     "execution_count": 4,
     "metadata": {},
     "output_type": "execute_result"
    }
   ],
   "source": [
    "len(loader) # this is len=1 because the nodes in the `input_nodes` param is less than batch_size?"
   ]
  },
  {
   "cell_type": "code",
   "execution_count": 5,
   "id": "28dec2a2",
   "metadata": {},
   "outputs": [
    {
     "data": {
      "text/plain": [
       "tensor([[2, 0, 0, 1, 1, 3],\n",
       "        [0, 0, 1, 1, 2, 2]])"
      ]
     },
     "execution_count": 5,
     "metadata": {},
     "output_type": "execute_result"
    }
   ],
   "source": [
    "bs = batch['Cells'].batch_size\n",
    "batch.edge_index_dict[('Cells', 'express', 'Paths')]"
   ]
  },
  {
   "cell_type": "code",
   "execution_count": 6,
   "id": "fc38b13b",
   "metadata": {},
   "outputs": [
    {
     "data": {
      "text/plain": [
       "tensor([10, 20])"
      ]
     },
     "execution_count": 6,
     "metadata": {},
     "output_type": "execute_result"
    }
   ],
   "source": [
    "# If I use the batch_size returned, I can filter out only the nodes in the train mask\n",
    "batch['Cells'].x[:bs]"
   ]
  },
  {
   "cell_type": "code",
   "execution_count": 7,
   "id": "730b9618",
   "metadata": {},
   "outputs": [
    {
     "data": {
      "text/plain": [
       "tensor([[2, 0],\n",
       "        [0, 0]])"
      ]
     },
     "execution_count": 7,
     "metadata": {},
     "output_type": "execute_result"
    }
   ],
   "source": [
    "# if I try that same filtering on the edges, it **doesnt** omit cells edges in the train mask\n",
    "batch.edge_index_dict[('Cells', 'express', 'Paths')][:,:bs]"
   ]
  },
  {
   "cell_type": "code",
   "execution_count": null,
   "id": "eb673006",
   "metadata": {},
   "outputs": [],
   "source": []
  },
  {
   "cell_type": "code",
   "execution_count": null,
   "id": "d43d777e",
   "metadata": {},
   "outputs": [],
   "source": []
  },
  {
   "cell_type": "markdown",
   "id": "32ec9311",
   "metadata": {},
   "source": [
    "### viz"
   ]
  },
  {
   "cell_type": "code",
   "execution_count": 10,
   "id": "cf63a841",
   "metadata": {},
   "outputs": [
    {
     "data": {
      "image/png": "[encoded data removed]",
      "text/plain": [
       "<Figure size 576x576 with 1 Axes>"
      ]
     },
     "metadata": {},
     "output_type": "display_data"
    }
   ],
   "source": [
    "from utils import plot_graph\n",
    "plot_graph(hd)"
   ]
  },
  {
   "cell_type": "code",
   "execution_count": null,
   "id": "04b22c60",
   "metadata": {},
   "outputs": [],
   "source": []
  },
  {
   "cell_type": "code",
   "execution_count": null,
   "id": "c8cc07fc",
   "metadata": {},
   "outputs": [],
   "source": []
  },
  {
   "cell_type": "code",
   "execution_count": 8,
   "id": "ddc96f8d",
   "metadata": {},
   "outputs": [],
   "source": [
    "def filter_edges(batch: pyg.data.HeteroData, edge_type: str, allowed_idx: list):\n",
    "    \"\"\"Filter out edges to only contain the edges in the `allowed_idx` variable\n",
    "    Args: \n",
    "        edge_path (tuple of strings): example: ('Cells', 'express', 'Paths')\n",
    "    \"\"\"\n",
    "    \n",
    "    allowed_idx = [i for i,_ in enumerate(batch['Cells'].x[:2])]\n",
    "    e = batch.edge_index_dict[edge_type]\n",
    "    new_row, new_col = [], []\n",
    "    for i, node in enumerate(e[0]):\n",
    "        if node in allowed_idx:\n",
    "            new_row.append(node)\n",
    "            new_col.append(e[1][i])\n",
    "    new_e = torch.stack([torch.Tensor(new_row), \n",
    "                        torch.Tensor(new_col)]) \n",
    "    return new_e"
   ]
  },
  {
   "cell_type": "code",
   "execution_count": 9,
   "id": "d9ba806a",
   "metadata": {},
   "outputs": [
    {
     "data": {
      "text/plain": [
       "tensor([[0., 0., 1., 1.],\n",
       "        [0., 1., 1., 2.]])"
      ]
     },
     "execution_count": 9,
     "metadata": {},
     "output_type": "execute_result"
    }
   ],
   "source": [
    "# as a fix, I filter out only the edges I care about but I am not sure if this is right\n",
    "allowed_idx = [i for i,_ in enumerate(batch['Cells'].x[:bs])]\n",
    "\n",
    "filter_edges(batch, ('Cells', 'express', 'Paths'), allowed_idx)\n",
    "#filter_edges(batch, ('Paths', 'rev_express', 'Cells'), allowed_idx)\n"
   ]
  },
  {
   "cell_type": "code",
   "execution_count": null,
   "id": "1265d922",
   "metadata": {},
   "outputs": [],
   "source": [
    "# in the above, the source nodes are always nodes either [0,1] because that's whats in my train mask"
   ]
  }
 ],
 "metadata": {
  "kernelspec": {
   "display_name": "Python 3.9.10 ('venv': venv)",
   "language": "python",
   "name": "python3910jvsc74a57bd052991ac022813e5de0029fdaacb7785720d1d05e8ff4c477283d90c2e650fefd"
  },
  "language_info": {
   "codemirror_mode": {
    "name": "ipython",
    "version": 3
   },
   "file_extension": ".py",
   "mimetype": "text/x-python",
   "name": "python",
   "nbconvert_exporter": "python",
   "pygments_lexer": "ipython3",
   "version": "3.9.10"
  }
 },
 "nbformat": 4,
 "nbformat_minor": 5
}
